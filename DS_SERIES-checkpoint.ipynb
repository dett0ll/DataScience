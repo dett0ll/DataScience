{
 "cells": [
  {
   "cell_type": "code",
   "execution_count": 1,
   "id": "c8a9455f-2243-486e-8519-c6ae68b7f0fd",
   "metadata": {},
   "outputs": [],
   "source": [
    "import numpy as np\n",
    "import pandas as pd"
   ]
  },
  {
   "cell_type": "code",
   "execution_count": 7,
   "id": "9dda544b-8cb5-4eea-a0e2-f589582658ee",
   "metadata": {},
   "outputs": [
    {
     "data": {
      "text/plain": [
       "0    4\n",
       "1    7\n",
       "2    5\n",
       "3    3\n",
       "4    6\n",
       "5    7\n",
       "dtype: int64"
      ]
     },
     "execution_count": 7,
     "metadata": {},
     "output_type": "execute_result"
    }
   ],
   "source": [
    "obj = pd.Series([4,7,5,3,6,7])\n",
    "obj\n",
    "#series has values and data labels called index.. Here we do not specify the index\n",
    "#output will be like\n",
    "# 0    4\n",
    "# 1    7\n",
    "# 2    5\n",
    "# 3    3\n",
    "# 4    6\n",
    "# 5    7\n",
    "# dtype: int64"
   ]
  },
  {
   "cell_type": "code",
   "execution_count": 9,
   "id": "fc9ab1f4-4191-4ad2-88a6-55c6ff0e9fce",
   "metadata": {},
   "outputs": [
    {
     "data": {
      "text/plain": [
       "RangeIndex(start=0, stop=6, step=1)"
      ]
     },
     "execution_count": 9,
     "metadata": {},
     "output_type": "execute_result"
    }
   ],
   "source": [
    "obj.array #it will give the values in the form of array\n",
    "# <NumpyExtensionArray>\n",
    "# [np.int64(4), np.int64(7), np.int64(5), np.int64(3), np.int64(6), np.int64(7)]\n",
    "# Length: 6, dtype: int64\n",
    "obj.index\n",
    "#RangeIndex(start=0, stop=6, step=1"
   ]
  },
  {
   "cell_type": "code",
   "execution_count": 13,
   "id": "f0d4f4ab-08b8-4e80-91e4-651889ee0a69",
   "metadata": {},
   "outputs": [
    {
     "data": {
      "text/plain": [
       "d    4\n",
       "b    7\n",
       "a    5\n",
       "c   -3\n",
       "dtype: int64"
      ]
     },
     "execution_count": 13,
     "metadata": {},
     "output_type": "execute_result"
    }
   ],
   "source": [
    "#defining the index\n",
    "obj2 = pd.Series([4,7,5,-3], index=[\"d\",\"b\",\"a\",\"c\"])\n",
    "obj2\n",
    "# d    4\n",
    "# b    7\n",
    "# a    5\n",
    "# c   -3\n",
    "# dtype: int64"
   ]
  },
  {
   "cell_type": "code",
   "execution_count": 17,
   "id": "ba5151a5-6fe7-430f-b92a-28e3c58e29e7",
   "metadata": {},
   "outputs": [
    {
     "data": {
      "text/plain": [
       "c   -3\n",
       "a    5\n",
       "d    4\n",
       "dtype: int64"
      ]
     },
     "execution_count": 17,
     "metadata": {},
     "output_type": "execute_result"
    }
   ],
   "source": [
    "obj2[[\"c\",\"a\",\"d\"]]\n",
    "#output will be\n",
    "# c   -3\n",
    "# a    5\n",
    "# d    4\n",
    "# dtype: int64"
   ]
  },
  {
   "cell_type": "code",
   "execution_count": 19,
   "id": "271419a8-3d88-45d5-a859-24fc361c22c2",
   "metadata": {},
   "outputs": [
    {
     "data": {
      "text/plain": [
       "d     8\n",
       "b    14\n",
       "a    10\n",
       "c    -6\n",
       "dtype: int64"
      ]
     },
     "execution_count": 19,
     "metadata": {},
     "output_type": "execute_result"
    }
   ],
   "source": [
    "#in the above series if we want values only greater than 0\n",
    "obj2[obj2>0]\n",
    "#if we want to multiply the values in obj2\n",
    "obj2 * 2"
   ]
  },
  {
   "cell_type": "code",
   "execution_count": 22,
   "id": "2b01c41b-50d7-416a-a05f-ae084a763ceb",
   "metadata": {},
   "outputs": [
    {
     "data": {
      "text/plain": [
       "False"
      ]
     },
     "execution_count": 22,
     "metadata": {},
     "output_type": "execute_result"
    }
   ],
   "source": [
    "#series is like a dictionary having mapping of index values to data values\n",
    "\"b\" in obj2\n",
    "#output will be True. It checks the key not the value"
   ]
  },
  {
   "cell_type": "code",
   "execution_count": 25,
   "id": "1c495c31-481b-479b-84dc-6c6728437a2e",
   "metadata": {},
   "outputs": [
    {
     "data": {
      "text/plain": [
       "{'Ohio': 35000, 'Texas': 71000, 'Oregon': 16000, 'Utah': 5000}"
      ]
     },
     "execution_count": 25,
     "metadata": {},
     "output_type": "execute_result"
    }
   ],
   "source": [
    "#creating a series from python dictionary\n",
    "sdata = {\"Ohio\": 35000, \"Texas\": 71000, \"Oregon\": 16000, \"Utah\": 5000}\n",
    "obj3 = pd.Series(sdata)\n",
    "obj3\n",
    "# what will happens is that key will become index and value will be value\n",
    "# in order to change obj3 back to dict\n",
    "obj3.to_dict()"
   ]
  },
  {
   "cell_type": "code",
   "execution_count": 31,
   "id": "32b8edeb-b87c-4dc5-9afd-e1bdb1cc0dd5",
   "metadata": {},
   "outputs": [
    {
     "data": {
      "text/plain": [
       "California    False\n",
       "Ohio           True\n",
       "Oregon         True\n",
       "Texas          True\n",
       "dtype: bool"
      ]
     },
     "execution_count": 31,
     "metadata": {},
     "output_type": "execute_result"
    }
   ],
   "source": [
    "#Now if we want to change the key values from the index. We will create our own index\n",
    "states = [\"California\", \"Ohio\", \"Oregon\", \"Texas\"]\n",
    "obj3 = pd.Series(sdata, index=states) #we passed states as index\n",
    "obj3\n",
    "#output\n",
    "# California        NaN\n",
    "# Ohio          35000.0\n",
    "# Oregon        16000.0\n",
    "# Texas         71000.0\n",
    "# dtype: float64\n",
    "# because California does not have any value in dict. Utah will be gone because it is not\n",
    "# present in states index\n",
    "pd.isna(obj3)\n",
    "#the result will be true only for california as its value is NA\n",
    "pd.notna(obj3)\n",
    "#only california will be false and rest will be true"
   ]
  },
  {
   "cell_type": "code",
   "execution_count": 32,
   "id": "ac56d2a6-1897-43d2-8d02-1f99cadb5039",
   "metadata": {},
   "outputs": [
    {
     "data": {
      "text/plain": [
       "state\n",
       "California        NaN\n",
       "Ohio          35000.0\n",
       "Oregon        16000.0\n",
       "Texas         71000.0\n",
       "Name: popultion, dtype: float64"
      ]
     },
     "execution_count": 32,
     "metadata": {},
     "output_type": "execute_result"
    }
   ],
   "source": [
    "#now we want name attribute for values and index\n",
    "obj3.name = \"popultion\" # so the value will be of population\n",
    "obj3.index.name = \"state\" # index will be of state\n",
    "obj3\n",
    "# state\n",
    "# California        NaN\n",
    "# Ohio          35000.0\n",
    "# Oregon        16000.0\n",
    "# Texas         71000.0\n",
    "# Name: popultion, dtype: float64\n",
    "# So the states are given their population values of type float"
   ]
  },
  {
   "cell_type": "code",
   "execution_count": null,
   "id": "6f7e64cf-3c88-45d9-8312-7f214cfca0e7",
   "metadata": {},
   "outputs": [],
   "source": []
  }
 ],
 "metadata": {
  "kernelspec": {
   "display_name": "Python 3 (ipykernel)",
   "language": "python",
   "name": "python3"
  },
  "language_info": {
   "codemirror_mode": {
    "name": "ipython",
    "version": 3
   },
   "file_extension": ".py",
   "mimetype": "text/x-python",
   "name": "python",
   "nbconvert_exporter": "python",
   "pygments_lexer": "ipython3",
   "version": "3.9.7"
  }
 },
 "nbformat": 4,
 "nbformat_minor": 5
}
