{
 "cells": [
  {
   "cell_type": "code",
   "execution_count": 1,
   "id": "d5b6d619-423d-4122-a305-f6409331928e",
   "metadata": {},
   "outputs": [],
   "source": [
    "import numpy as np\n",
    "import pandas as pd\n",
    "import os"
   ]
  },
  {
   "cell_type": "code",
   "execution_count": 28,
   "id": "1dd8fb8b-696b-4064-b4fb-1c7cb68d4aad",
   "metadata": {},
   "outputs": [
    {
     "data": {
      "text/plain": [
       "'c:\\\\'"
      ]
     },
     "execution_count": 28,
     "metadata": {},
     "output_type": "execute_result"
    }
   ],
   "source": [
    "os.chdir(\"c:/\") #change directory\n",
    "os.getcwd()"
   ]
  },
  {
   "cell_type": "code",
   "execution_count": 33,
   "id": "bbc2e37a-942f-4508-812f-27c9832d4912",
   "metadata": {},
   "outputs": [],
   "source": [
    "def copypaste():\n",
    "    old_file = pd.read_excel('test/a/Laptop.xlsx')\n",
    "    new_file = pd.read_excel('test/b/desktop 1.xlsx')\n",
    "    col = [\"Hostname\",\"OS\"]\n",
    "    for column in col:\n",
    "        if column in old_file.columns and column in new_file.columns:\n",
    "            new_file[column] = old_file[column]\n",
    "    new_file.to_excel('test/b/desktop 1.xlsx', index = False)"
   ]
  },
  {
   "cell_type": "code",
   "execution_count": 34,
   "id": "8f2c09af-647d-427a-be47-78ffa2ffc57c",
   "metadata": {},
   "outputs": [
    {
     "name": "stdout",
     "output_type": "stream",
     "text": [
      "\\test ['a', 'b'] []\n",
      "no file\n",
      "\\test\\a [] ['Laptop.xlsx', 'Laptop2.xlsx', 'Laptop3.xlsx']\n",
      "no file\n",
      "\\test\\b [] ['desktop 1.xlsx', 'desktop 2.xlsx']\n"
     ]
    }
   ],
   "source": [
    "def search_file(file_name, start_directory):\n",
    "    for root, dirs, files in os.walk(start_directory):\n",
    "        print(root,dirs,files)\n",
    "        if file_name in files:\n",
    "            copypaste()\n",
    "        else:\n",
    "            print(\"no file\")\n",
    "\n",
    "# Example usage:\n",
    "search_file('desktop 1.xlsx', '\\\\test')"
   ]
  },
  {
   "cell_type": "code",
   "execution_count": null,
   "id": "eedeb2d7-271b-4c7a-9377-3954f0fc8854",
   "metadata": {},
   "outputs": [],
   "source": []
  },
  {
   "cell_type": "code",
   "execution_count": null,
   "id": "3b2b9358-e15a-41c9-bbd5-6c54ed23ed40",
   "metadata": {},
   "outputs": [],
   "source": []
  },
  {
   "cell_type": "code",
   "execution_count": null,
   "id": "a5ecf61e-94e0-49b2-9f5b-b816983c643a",
   "metadata": {},
   "outputs": [],
   "source": []
  },
  {
   "cell_type": "code",
   "execution_count": null,
   "id": "70216034-77fa-49f7-a4a0-43761656d054",
   "metadata": {},
   "outputs": [],
   "source": []
  },
  {
   "cell_type": "code",
   "execution_count": null,
   "id": "fa9391cc-02f8-42ee-83c6-f6c966c17dba",
   "metadata": {},
   "outputs": [],
   "source": []
  },
  {
   "cell_type": "code",
   "execution_count": 9,
   "id": "b72cbcfa-0df4-49d7-a0d3-b27bf55826f2",
   "metadata": {},
   "outputs": [
    {
     "data": {
      "text/plain": [
       "'c:\\\\'"
      ]
     },
     "execution_count": 9,
     "metadata": {},
     "output_type": "execute_result"
    }
   ],
   "source": []
  },
  {
   "cell_type": "code",
   "execution_count": null,
   "id": "84354d7f-f7fe-4550-84a6-0bdf8c8ded2b",
   "metadata": {},
   "outputs": [],
   "source": []
  },
  {
   "cell_type": "code",
   "execution_count": 10,
   "id": "17f88e83-b356-4f81-8599-91a004c370f4",
   "metadata": {},
   "outputs": [
    {
     "data": {
      "text/plain": [
       "['$Recycle.Bin',\n",
       " '$SysReset',\n",
       " '$WINDOWS.~BT',\n",
       " '$Windows.~WS',\n",
       " '$WinREAgent',\n",
       " '.cleverfiles',\n",
       " 'Boot',\n",
       " 'bootmgr',\n",
       " 'Buziol Games',\n",
       " 'Documents and Settings',\n",
       " 'DumpStack.log',\n",
       " 'DumpStack.log.tmp',\n",
       " 'ESD',\n",
       " 'hiberfil.sys',\n",
       " 'MSOCache',\n",
       " 'My Web Sites',\n",
       " 'Naveed',\n",
       " 'pagefile.sys',\n",
       " 'PerfLogs',\n",
       " 'Program Files',\n",
       " 'Program Files (x86)',\n",
       " 'ProgramData',\n",
       " 'Recovery',\n",
       " 'RecoveryDestination',\n",
       " 'swapfile.sys',\n",
       " 'System Volume Information',\n",
       " 'test',\n",
       " 'Users',\n",
       " 'Virtual Machines',\n",
       " 'Windows',\n",
       " 'xampp']"
      ]
     },
     "execution_count": 10,
     "metadata": {},
     "output_type": "execute_result"
    }
   ],
   "source": []
  },
  {
   "cell_type": "code",
   "execution_count": null,
   "id": "262c94cd-61a4-4db5-b6c1-4b7397934639",
   "metadata": {},
   "outputs": [],
   "source": []
  },
  {
   "cell_type": "code",
   "execution_count": 29,
   "id": "614567c1-cfff-40ff-aeaa-0968ef62e83b",
   "metadata": {},
   "outputs": [
    {
     "name": "stdout",
     "output_type": "stream",
     "text": [
      "\\test ['a', 'b'] []\n",
      "no file\n",
      "\\test\\a [] ['Laptop.xlsx', 'Laptop2.xlsx', 'Laptop3.xlsx']\n",
      "no file\n",
      "\\test\\b [] ['desktop 1.xlsx', 'desktop 2.xlsx']\n",
      "file desktop 1.xlsx at \\test\\b\\desktop 1.xlsx\n"
     ]
    }
   ],
   "source": []
  },
  {
   "cell_type": "code",
   "execution_count": null,
   "id": "ba989ac6-1944-4b50-ade6-6723bf7149b3",
   "metadata": {},
   "outputs": [],
   "source": []
  },
  {
   "cell_type": "code",
   "execution_count": null,
   "id": "c4cf1a2c-9015-4b99-a18e-8c78ea89a810",
   "metadata": {},
   "outputs": [],
   "source": []
  },
  {
   "cell_type": "code",
   "execution_count": null,
   "id": "198a1e44-de17-4535-818c-e5cb26b7a077",
   "metadata": {},
   "outputs": [],
   "source": []
  },
  {
   "cell_type": "code",
   "execution_count": null,
   "id": "d757345f-959c-465a-982e-58c5b575d994",
   "metadata": {},
   "outputs": [],
   "source": []
  },
  {
   "cell_type": "code",
   "execution_count": null,
   "id": "c89a5335-750f-4b76-bf20-9eb1d1f80ca9",
   "metadata": {},
   "outputs": [],
   "source": []
  },
  {
   "cell_type": "code",
   "execution_count": null,
   "id": "f5d79358-81a3-4ec5-9ad9-08e728dcf8af",
   "metadata": {},
   "outputs": [],
   "source": []
  },
  {
   "cell_type": "code",
   "execution_count": null,
   "id": "ec795048-eb6a-4622-86da-8515c00b0ed8",
   "metadata": {},
   "outputs": [],
   "source": []
  },
  {
   "cell_type": "code",
   "execution_count": null,
   "id": "5d11c1db-afc7-41a2-b379-3b56c84a7ceb",
   "metadata": {},
   "outputs": [],
   "source": []
  },
  {
   "cell_type": "code",
   "execution_count": null,
   "id": "de7c88bd-9a4e-43ef-8251-544396230c03",
   "metadata": {},
   "outputs": [],
   "source": []
  },
  {
   "cell_type": "code",
   "execution_count": null,
   "id": "2af3cba0-e83d-4b1e-8d08-23ab26d98237",
   "metadata": {},
   "outputs": [],
   "source": []
  },
  {
   "cell_type": "code",
   "execution_count": null,
   "id": "a410ddb4-50b4-4f03-8960-9c957a3b4397",
   "metadata": {},
   "outputs": [],
   "source": []
  },
  {
   "cell_type": "code",
   "execution_count": null,
   "id": "15ebda98-ef47-422c-98d4-142017ce0a3f",
   "metadata": {},
   "outputs": [],
   "source": []
  },
  {
   "cell_type": "code",
   "execution_count": null,
   "id": "dacc3d50-8d18-4fa8-86c2-4a22f45989dd",
   "metadata": {},
   "outputs": [],
   "source": []
  },
  {
   "cell_type": "code",
   "execution_count": null,
   "id": "51ce6096-32e8-4783-8263-de01538cf13f",
   "metadata": {},
   "outputs": [],
   "source": []
  },
  {
   "cell_type": "code",
   "execution_count": null,
   "id": "ade2233a-88a5-448e-8676-ec76e998cec0",
   "metadata": {},
   "outputs": [],
   "source": []
  },
  {
   "cell_type": "code",
   "execution_count": null,
   "id": "391d9fb7-aa70-4179-b120-07a6fd33ed82",
   "metadata": {},
   "outputs": [],
   "source": []
  },
  {
   "cell_type": "code",
   "execution_count": null,
   "id": "ef490d17-a505-45da-84b7-957429eba405",
   "metadata": {},
   "outputs": [],
   "source": []
  },
  {
   "cell_type": "code",
   "execution_count": null,
   "id": "2856f4d1-4454-4bb8-8f52-ff328db56bf8",
   "metadata": {},
   "outputs": [],
   "source": []
  },
  {
   "cell_type": "code",
   "execution_count": 8,
   "id": "5c74480e-ac88-4e53-acd5-1914a42a94a3",
   "metadata": {},
   "outputs": [],
   "source": []
  },
  {
   "cell_type": "code",
   "execution_count": null,
   "id": "fbb64357-c3dc-4f07-b6d4-382fa0b25228",
   "metadata": {},
   "outputs": [],
   "source": []
  },
  {
   "cell_type": "code",
   "execution_count": null,
   "id": "640e2e61-d5d0-40f2-89f5-f6eb4ceb64fd",
   "metadata": {},
   "outputs": [],
   "source": []
  },
  {
   "cell_type": "code",
   "execution_count": null,
   "id": "4b73acf7-2985-4a5e-b88e-8fd3ecc9b5af",
   "metadata": {},
   "outputs": [],
   "source": []
  }
 ],
 "metadata": {
  "kernelspec": {
   "display_name": "Python 3 (ipykernel)",
   "language": "python",
   "name": "python3"
  },
  "language_info": {
   "codemirror_mode": {
    "name": "ipython",
    "version": 3
   },
   "file_extension": ".py",
   "mimetype": "text/x-python",
   "name": "python",
   "nbconvert_exporter": "python",
   "pygments_lexer": "ipython3",
   "version": "3.9.7"
  }
 },
 "nbformat": 4,
 "nbformat_minor": 5
}
