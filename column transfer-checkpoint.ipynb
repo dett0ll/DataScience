{
 "cells": [
  {
   "cell_type": "code",
   "execution_count": 2,
   "id": "36f8af7b-b86b-47b4-a742-e2c0cc06d1f9",
   "metadata": {},
   "outputs": [],
   "source": [
    "import numpy as np\n",
    "import pandas as pd"
   ]
  },
  {
   "cell_type": "code",
   "execution_count": 4,
   "id": "f13835df-c7bc-47a3-997e-96d56aaa06ef",
   "metadata": {},
   "outputs": [],
   "source": [
    "old_file = pd.read_excel(\"/test/Laptop.xlsx\") #read old file"
   ]
  },
  {
   "cell_type": "code",
   "execution_count": 5,
   "id": "0316d31e-e575-405f-97f6-f27bb3a857d6",
   "metadata": {},
   "outputs": [],
   "source": [
    "new_file = pd.read_excel(\"/test/Laptop3.xlsx\") # read new file"
   ]
  },
  {
   "cell_type": "code",
   "execution_count": 7,
   "id": "7c77691c-2ae3-4f52-a218-739f77e57c47",
   "metadata": {},
   "outputs": [],
   "source": [
    "col = [\"Hostname\",\"OS\"] # columns that we need to paste"
   ]
  },
  {
   "cell_type": "code",
   "execution_count": null,
   "id": "d0da8378-b47b-4e52-bc63-936d45fdbf36",
   "metadata": {},
   "outputs": [],
   "source": []
  },
  {
   "cell_type": "code",
   "execution_count": 9,
   "id": "3adf50c4-5104-4d38-852a-abade2ae2625",
   "metadata": {},
   "outputs": [],
   "source": [
    "for column in col: #iterate though above columns that we mentioned\n",
    "    if column in old_file.columns and column in new_file.columns: #it will see if the columns are present in both the files\n",
    "        new_file[column] = old_file[column] # it will put the value of old file column to new file"
   ]
  },
  {
   "cell_type": "code",
   "execution_count": 11,
   "id": "e1932e5d-51ca-4fdf-ba65-957834603a69",
   "metadata": {},
   "outputs": [],
   "source": [
    "new_file.to_excel(\"/test/Laptop3.xlsx\", index=False) # here it will print the value of the columns to file we specify"
   ]
  },
  {
   "cell_type": "code",
   "execution_count": null,
   "id": "9f4af71e-1d80-4096-ae2a-f69ccab948fb",
   "metadata": {},
   "outputs": [],
   "source": []
  },
  {
   "cell_type": "code",
   "execution_count": null,
   "id": "39e724ee-c1cd-4955-9250-8f27e49559b8",
   "metadata": {},
   "outputs": [],
   "source": []
  },
  {
   "cell_type": "code",
   "execution_count": null,
   "id": "004f977e-e584-4dd0-b3a8-121b41224531",
   "metadata": {},
   "outputs": [],
   "source": []
  },
  {
   "cell_type": "code",
   "execution_count": null,
   "id": "946f10ff-98f9-4ee5-85ff-91412ba2cb27",
   "metadata": {},
   "outputs": [],
   "source": []
  }
 ],
 "metadata": {
  "kernelspec": {
   "display_name": "Python 3 (ipykernel)",
   "language": "python",
   "name": "python3"
  },
  "language_info": {
   "codemirror_mode": {
    "name": "ipython",
    "version": 3
   },
   "file_extension": ".py",
   "mimetype": "text/x-python",
   "name": "python",
   "nbconvert_exporter": "python",
   "pygments_lexer": "ipython3",
   "version": "3.9.7"
  }
 },
 "nbformat": 4,
 "nbformat_minor": 5
}
