{
 "cells": [
  {
   "cell_type": "code",
   "execution_count": 92,
   "id": "f42e8374-2ace-49d4-8412-9bec62b82b2a",
   "metadata": {},
   "outputs": [],
   "source": [
    "import os\n",
    "import numpy as np\n",
    "import pandas as pd\n",
    "from pathlib import Path\n",
    "os.chdir('C:/')\n",
    "#print(os.getcwd())\n",
    "\n",
    "Allfiles = []\n",
    "def search_file(file_name, start_directory):\n",
    "    global Allfiles\n",
    "    global old_file\n",
    "    for root, dirs, files in os.walk(start_directory):\n",
    "        #print(root,dirs,files)\n",
    "        if file_name in files:\n",
    "            #print(f\"file {file_name} at {os.path.join(root, file_name)}\")\n",
    "            Allfiles.append(os.path.join(root, file_name))\n",
    "        #else:\n",
    "            #print(\"no file\")\n",
    "    return Allfiles\n",
    "search_file('Assetlist.xlsx', '\\\\test')\n",
    "#print(Allfiles)\n",
    "all_data = []\n",
    "for file in Allfiles:\n",
    "    ef = pd.read_excel(file)\n",
    "    all_data.append(ef)\n",
    "    #print(ef)\n",
    "    nf.to_excel('/test/c/finalsheet.xlsx', index=False)\n",
    "#print (all_data)\n",
    "combined_df = pd.concat(all_data, ignore_index=True)\n",
    "#print(combined_df)\n",
    "combined_df.to_excel('/test/c/combined.xlsx', index=False)\n",
    "cf = pd.read_excel('/test/c/combined.xlsx')\n",
    "nf = pd.read_excel('/test/c/finalsheet.xlsx')\n",
    "col = [\"Hostname\",\"OS\"]\n",
    "for column in col:\n",
    "    if column in cf.columns and column in nf.columns:\n",
    "        nf[column] = cf[column]\n",
    "nf.to_excel('/test/c/finalsheet.xlsx', index=False)\n"
   ]
  },
  {
   "cell_type": "code",
   "execution_count": null,
   "id": "5ce6022b-64a9-4f08-873e-f84c74cb2931",
   "metadata": {},
   "outputs": [],
   "source": []
  },
  {
   "cell_type": "code",
   "execution_count": null,
   "id": "6a6c2ed8-8d81-414b-86ce-8c0611d9b7ad",
   "metadata": {},
   "outputs": [],
   "source": []
  },
  {
   "cell_type": "code",
   "execution_count": null,
   "id": "c7de7de4-8627-4ef3-a483-5e49f5bfad67",
   "metadata": {},
   "outputs": [],
   "source": []
  },
  {
   "cell_type": "code",
   "execution_count": null,
   "id": "45ccd2bc-e71b-4b5f-86ba-dd8afd059341",
   "metadata": {},
   "outputs": [],
   "source": []
  },
  {
   "cell_type": "code",
   "execution_count": null,
   "id": "9dfe4900-6dc9-428f-b55c-15813c96f98f",
   "metadata": {},
   "outputs": [],
   "source": []
  },
  {
   "cell_type": "code",
   "execution_count": null,
   "id": "f84de67c-ea48-4aef-af94-6ac439639d0d",
   "metadata": {},
   "outputs": [],
   "source": []
  },
  {
   "cell_type": "code",
   "execution_count": null,
   "id": "7a6857d6-d61e-4973-a53f-7464e76406a9",
   "metadata": {},
   "outputs": [],
   "source": []
  },
  {
   "cell_type": "code",
   "execution_count": null,
   "id": "2e921c64-588f-46ff-97e0-a8cd320081c2",
   "metadata": {},
   "outputs": [],
   "source": []
  },
  {
   "cell_type": "code",
   "execution_count": null,
   "id": "0881df6d-5d3e-4dd3-933b-6384be6b3de6",
   "metadata": {},
   "outputs": [],
   "source": []
  },
  {
   "cell_type": "code",
   "execution_count": null,
   "id": "41eae051-c396-470b-a81e-4a8e35c96bfd",
   "metadata": {},
   "outputs": [],
   "source": []
  },
  {
   "cell_type": "code",
   "execution_count": null,
   "id": "32ac99a4-89e2-4092-a91a-5a9b0e5fd7aa",
   "metadata": {},
   "outputs": [],
   "source": []
  },
  {
   "cell_type": "code",
   "execution_count": null,
   "id": "445a1dfe-640e-4e52-835e-74b4ceed7699",
   "metadata": {},
   "outputs": [],
   "source": []
  },
  {
   "cell_type": "code",
   "execution_count": null,
   "id": "f2b18a6a-0c90-4c46-9b50-7350f1f4c44b",
   "metadata": {},
   "outputs": [],
   "source": []
  },
  {
   "cell_type": "code",
   "execution_count": null,
   "id": "7adb10e1-f015-4426-bd8b-4db01f0201b1",
   "metadata": {},
   "outputs": [],
   "source": []
  },
  {
   "cell_type": "code",
   "execution_count": null,
   "id": "c3071c4f-eb9e-48c7-b772-398cbf073633",
   "metadata": {},
   "outputs": [],
   "source": []
  },
  {
   "cell_type": "code",
   "execution_count": null,
   "id": "7af940b3-4f8f-4afd-a9ce-97bef0245baa",
   "metadata": {},
   "outputs": [],
   "source": []
  },
  {
   "cell_type": "code",
   "execution_count": null,
   "id": "bde2a8b3-c179-4eff-8dae-4702324b3f0e",
   "metadata": {},
   "outputs": [],
   "source": []
  },
  {
   "cell_type": "code",
   "execution_count": null,
   "id": "5ddc093b-0917-4628-a228-92fb5c8ca966",
   "metadata": {},
   "outputs": [],
   "source": []
  },
  {
   "cell_type": "code",
   "execution_count": null,
   "id": "58b1786b-8250-4ae4-bc86-50b10f944917",
   "metadata": {},
   "outputs": [],
   "source": []
  },
  {
   "cell_type": "code",
   "execution_count": null,
   "id": "47f34128-34da-4e09-a970-a2322a14ccf4",
   "metadata": {},
   "outputs": [],
   "source": []
  },
  {
   "cell_type": "code",
   "execution_count": null,
   "id": "29eaf1e7-fcf0-44e8-a88c-5760ad390ca5",
   "metadata": {},
   "outputs": [],
   "source": []
  },
  {
   "cell_type": "code",
   "execution_count": null,
   "id": "72276f21-0251-43e8-8b14-40ee8effcc36",
   "metadata": {},
   "outputs": [],
   "source": []
  },
  {
   "cell_type": "code",
   "execution_count": null,
   "id": "48b76aa1-a903-4fa7-b0e2-caefc771e072",
   "metadata": {},
   "outputs": [],
   "source": []
  },
  {
   "cell_type": "code",
   "execution_count": null,
   "id": "785a4b34-1b22-4a77-8cf0-36e5e5b28f89",
   "metadata": {},
   "outputs": [],
   "source": []
  },
  {
   "cell_type": "code",
   "execution_count": null,
   "id": "b1cb63e4-0007-4630-839f-6d9a8f30f72b",
   "metadata": {},
   "outputs": [],
   "source": []
  },
  {
   "cell_type": "code",
   "execution_count": null,
   "id": "2fb4e61a-f4a8-4cb7-abc2-c0823c12aece",
   "metadata": {},
   "outputs": [],
   "source": []
  },
  {
   "cell_type": "code",
   "execution_count": null,
   "id": "e6db3662-ffce-4a51-ba9a-5f62b62c0982",
   "metadata": {},
   "outputs": [],
   "source": []
  },
  {
   "cell_type": "code",
   "execution_count": null,
   "id": "7630c746-2646-408c-ab3e-95e4945bea77",
   "metadata": {},
   "outputs": [],
   "source": []
  },
  {
   "cell_type": "code",
   "execution_count": null,
   "id": "85b1e52d-272b-4271-8631-06f9b66722b5",
   "metadata": {},
   "outputs": [],
   "source": []
  },
  {
   "cell_type": "code",
   "execution_count": null,
   "id": "2125a4c0-a8e8-46e8-a630-00d3fae2ebca",
   "metadata": {},
   "outputs": [],
   "source": []
  },
  {
   "cell_type": "code",
   "execution_count": null,
   "id": "faa98453-fa0d-47b7-9e9e-21144a557de8",
   "metadata": {},
   "outputs": [],
   "source": []
  },
  {
   "cell_type": "code",
   "execution_count": null,
   "id": "7137f2e4-f29d-47e0-945b-3f688acbe25a",
   "metadata": {},
   "outputs": [],
   "source": []
  },
  {
   "cell_type": "code",
   "execution_count": null,
   "id": "528435f3-046b-4c8b-98f5-c87c443c96e0",
   "metadata": {},
   "outputs": [],
   "source": []
  },
  {
   "cell_type": "code",
   "execution_count": null,
   "id": "c29f279d-9de8-4e6b-9dda-99dfe0107b1f",
   "metadata": {},
   "outputs": [],
   "source": []
  },
  {
   "cell_type": "code",
   "execution_count": null,
   "id": "4d016432-8e73-499b-9502-c3dbf561c41c",
   "metadata": {},
   "outputs": [],
   "source": []
  },
  {
   "cell_type": "code",
   "execution_count": null,
   "id": "f23479fb-7509-430a-9267-acc8f80365b5",
   "metadata": {},
   "outputs": [],
   "source": []
  },
  {
   "cell_type": "code",
   "execution_count": null,
   "id": "c633a8fa-4137-4886-948a-a605106a47e7",
   "metadata": {},
   "outputs": [],
   "source": []
  },
  {
   "cell_type": "code",
   "execution_count": null,
   "id": "5d76504e-4af1-4855-b78b-750580367f12",
   "metadata": {},
   "outputs": [],
   "source": []
  },
  {
   "cell_type": "code",
   "execution_count": null,
   "id": "e248c6f9-da9d-4c92-8426-0851f76bd476",
   "metadata": {},
   "outputs": [],
   "source": []
  },
  {
   "cell_type": "code",
   "execution_count": null,
   "id": "1291b9f5-0e3f-4265-94e2-5263f2586cfe",
   "metadata": {},
   "outputs": [],
   "source": []
  },
  {
   "cell_type": "code",
   "execution_count": null,
   "id": "8b71e0e0-3c24-437c-a7b6-e1488ed2fb4b",
   "metadata": {},
   "outputs": [],
   "source": []
  },
  {
   "cell_type": "code",
   "execution_count": null,
   "id": "181ea9d3-d43d-4e47-81a3-2beb370f6154",
   "metadata": {},
   "outputs": [],
   "source": []
  },
  {
   "cell_type": "code",
   "execution_count": null,
   "id": "2db95127-0f17-45f9-bd85-7b52688fa7ac",
   "metadata": {},
   "outputs": [],
   "source": []
  },
  {
   "cell_type": "code",
   "execution_count": null,
   "id": "515bd699-9f8f-45a3-9f05-234faea70784",
   "metadata": {},
   "outputs": [],
   "source": []
  },
  {
   "cell_type": "code",
   "execution_count": null,
   "id": "a49602a5-cb7a-4ae0-a277-413979cdea93",
   "metadata": {},
   "outputs": [],
   "source": []
  },
  {
   "cell_type": "code",
   "execution_count": null,
   "id": "da4bcf1b-1f56-446c-a5d6-54d3533c6a6a",
   "metadata": {},
   "outputs": [],
   "source": []
  },
  {
   "cell_type": "code",
   "execution_count": null,
   "id": "a35c9e7b-59b2-4e3f-b188-665b987aa2c5",
   "metadata": {},
   "outputs": [],
   "source": []
  },
  {
   "cell_type": "code",
   "execution_count": null,
   "id": "fae8d55b-7277-4e9f-aebc-ad50a9183090",
   "metadata": {},
   "outputs": [],
   "source": []
  },
  {
   "cell_type": "code",
   "execution_count": null,
   "id": "03606813-72b5-46cf-a4a5-938a8b15fc88",
   "metadata": {},
   "outputs": [],
   "source": []
  },
  {
   "cell_type": "code",
   "execution_count": null,
   "id": "a6838ea6-4e68-4892-97e0-70667f982583",
   "metadata": {},
   "outputs": [],
   "source": []
  },
  {
   "cell_type": "code",
   "execution_count": null,
   "id": "5edbe713-e039-4f3f-96c2-c0b063af50ad",
   "metadata": {},
   "outputs": [],
   "source": []
  },
  {
   "cell_type": "code",
   "execution_count": null,
   "id": "bf3c5c50-825b-4118-aba5-8c9476b1ec26",
   "metadata": {},
   "outputs": [],
   "source": []
  },
  {
   "cell_type": "code",
   "execution_count": null,
   "id": "2c4c0b48-2fce-422d-b005-7bb669051172",
   "metadata": {},
   "outputs": [],
   "source": []
  },
  {
   "cell_type": "code",
   "execution_count": null,
   "id": "4b65f195-0eb7-4450-abb8-8325993f2af0",
   "metadata": {},
   "outputs": [],
   "source": []
  },
  {
   "cell_type": "code",
   "execution_count": null,
   "id": "4072eea6-6cfa-41da-b0fc-a43aa0be87ad",
   "metadata": {},
   "outputs": [],
   "source": []
  },
  {
   "cell_type": "code",
   "execution_count": null,
   "id": "406ea9cf-e11b-427d-8a46-c937f8f2c811",
   "metadata": {},
   "outputs": [],
   "source": []
  },
  {
   "cell_type": "code",
   "execution_count": null,
   "id": "fedc3a1c-2c96-4004-9d2d-b6430e7c590e",
   "metadata": {},
   "outputs": [],
   "source": []
  },
  {
   "cell_type": "code",
   "execution_count": null,
   "id": "f281e694-7804-4ad6-9de0-552d57fe8229",
   "metadata": {},
   "outputs": [],
   "source": []
  },
  {
   "cell_type": "code",
   "execution_count": null,
   "id": "312fc2e4-17a9-432d-8523-77bd7e6fe80f",
   "metadata": {},
   "outputs": [],
   "source": []
  },
  {
   "cell_type": "code",
   "execution_count": null,
   "id": "093b44a0-a924-4b5a-8f79-62138460e3ad",
   "metadata": {},
   "outputs": [],
   "source": []
  },
  {
   "cell_type": "code",
   "execution_count": null,
   "id": "60ad2d44-1a96-4334-b71c-e2baac019640",
   "metadata": {},
   "outputs": [],
   "source": []
  },
  {
   "cell_type": "code",
   "execution_count": null,
   "id": "2609e6ab-2dba-4394-a99b-46758bc7f585",
   "metadata": {},
   "outputs": [],
   "source": []
  },
  {
   "cell_type": "code",
   "execution_count": null,
   "id": "8bdc01b8-a53d-4d7c-8030-565d54bf3642",
   "metadata": {},
   "outputs": [],
   "source": []
  },
  {
   "cell_type": "code",
   "execution_count": null,
   "id": "5a4a418e-9fde-4760-b26d-ef06e25961f0",
   "metadata": {},
   "outputs": [],
   "source": []
  },
  {
   "cell_type": "code",
   "execution_count": null,
   "id": "98d138cb-686e-47ce-91aa-6ab66496db45",
   "metadata": {},
   "outputs": [],
   "source": []
  },
  {
   "cell_type": "code",
   "execution_count": null,
   "id": "9926d65a-72e4-489d-8931-a88157c8c9be",
   "metadata": {},
   "outputs": [],
   "source": []
  },
  {
   "cell_type": "code",
   "execution_count": null,
   "id": "0907da77-6bc7-4aca-a9ff-f105d059786e",
   "metadata": {},
   "outputs": [],
   "source": []
  },
  {
   "cell_type": "code",
   "execution_count": null,
   "id": "563ac48f-c9e0-44ab-9177-b8085c1a3775",
   "metadata": {},
   "outputs": [],
   "source": []
  },
  {
   "cell_type": "code",
   "execution_count": null,
   "id": "d0261aa5-be51-4305-98c7-0d98dc3618f5",
   "metadata": {},
   "outputs": [],
   "source": []
  },
  {
   "cell_type": "code",
   "execution_count": null,
   "id": "0598701a-7dfe-4ef2-bf7a-c6bec4b96496",
   "metadata": {},
   "outputs": [],
   "source": []
  },
  {
   "cell_type": "code",
   "execution_count": null,
   "id": "6f2b5c2e-4894-4193-9caf-08f3d300d68c",
   "metadata": {},
   "outputs": [],
   "source": []
  },
  {
   "cell_type": "code",
   "execution_count": null,
   "id": "7bb7fb0d-4065-40a5-8056-1c175cf1746a",
   "metadata": {},
   "outputs": [],
   "source": []
  },
  {
   "cell_type": "code",
   "execution_count": null,
   "id": "9e8fd76c-b75d-48cc-b982-fac0750776a3",
   "metadata": {},
   "outputs": [],
   "source": []
  },
  {
   "cell_type": "code",
   "execution_count": null,
   "id": "cc8c4181-0706-42a3-8762-5f58156c6def",
   "metadata": {},
   "outputs": [],
   "source": []
  }
 ],
 "metadata": {
  "kernelspec": {
   "display_name": "Python 3 (ipykernel)",
   "language": "python",
   "name": "python3"
  },
  "language_info": {
   "codemirror_mode": {
    "name": "ipython",
    "version": 3
   },
   "file_extension": ".py",
   "mimetype": "text/x-python",
   "name": "python",
   "nbconvert_exporter": "python",
   "pygments_lexer": "ipython3",
   "version": "3.9.7"
  }
 },
 "nbformat": 4,
 "nbformat_minor": 5
}
