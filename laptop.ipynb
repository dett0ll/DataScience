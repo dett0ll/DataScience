{
 "cells": [
  {
   "cell_type": "code",
   "execution_count": 1,
   "id": "daabb15b-a3cc-49c4-8fac-4c5b1e9fd69c",
   "metadata": {},
   "outputs": [],
   "source": [
    "import pandas as pd\n",
    "import numpy as np\n",
    "import os"
   ]
  },
  {
   "cell_type": "code",
   "execution_count": 7,
   "id": "02f5798c-f45a-4f4c-a8b3-9d9fb146a62f",
   "metadata": {},
   "outputs": [],
   "source": [
    "n = pd.read_excel(\"/test/Laptop2.xlsx\")\n",
    "o = pd.read_excel(\"/test/Laptop.xlsx\")\n",
    "thirdfile = pd.read_excel(\"/test/Laptop3.xlsx\")"
   ]
  },
  {
   "cell_type": "code",
   "execution_count": 39,
   "id": "e77e4810-8c50-4155-8c04-851f003a4f23",
   "metadata": {},
   "outputs": [],
   "source": [
    "col= ['Technology','IP']"
   ]
  },
  {
   "cell_type": "code",
   "execution_count": null,
   "id": "62916e8c-77c9-4a39-a035-7eb76580b0fa",
   "metadata": {},
   "outputs": [],
   "source": []
  },
  {
   "cell_type": "code",
   "execution_count": 32,
   "id": "17733aab-1b2e-44d0-8dae-9a17aead4a71",
   "metadata": {},
   "outputs": [],
   "source": [
    "n['Technology'] = o['Technology']\n",
    "n['IP'] = o['IP']"
   ]
  },
  {
   "cell_type": "code",
   "execution_count": 8,
   "id": "b2eeecde-ddd3-4e58-bff0-5886f4600298",
   "metadata": {},
   "outputs": [],
   "source": [
    "n.to_excel('/test/Laptop2.xlsx', index=False)"
   ]
  },
  {
   "cell_type": "code",
   "execution_count": 41,
   "id": "063ed87d-32be-43f3-b996-baeab4f4c022",
   "metadata": {},
   "outputs": [],
   "source": [
    "for column in col:\n",
    "    if column in o.columns and column in thirdfile.columns:\n",
    "        thirdfile[column] = o[column]"
   ]
  },
  {
   "cell_type": "code",
   "execution_count": 9,
   "id": "85f5d784-6b9e-4940-97de-620263026cca",
   "metadata": {},
   "outputs": [],
   "source": [
    "thirdfile.to_excel('/test/Laptop3.xlsx', index=False)"
   ]
  },
  {
   "cell_type": "code",
   "execution_count": 3,
   "id": "27ff1cb4-5bc6-4c96-8083-28d026dc08fa",
   "metadata": {},
   "outputs": [
    {
     "name": "stdout",
     "output_type": "stream",
     "text": [
      "C:\\Windows\\system32\n"
     ]
    }
   ],
   "source": [
    "current_path = os.getcwd()\n",
    "print(current_path)"
   ]
  },
  {
   "cell_type": "code",
   "execution_count": null,
   "id": "7261a872-4ae2-4c7b-83f4-c589bfbb6a04",
   "metadata": {},
   "outputs": [],
   "source": []
  }
 ],
 "metadata": {
  "kernelspec": {
   "display_name": "Python 3 (ipykernel)",
   "language": "python",
   "name": "python3"
  },
  "language_info": {
   "codemirror_mode": {
    "name": "ipython",
    "version": 3
   },
   "file_extension": ".py",
   "mimetype": "text/x-python",
   "name": "python",
   "nbconvert_exporter": "python",
   "pygments_lexer": "ipython3",
   "version": "3.9.7"
  }
 },
 "nbformat": 4,
 "nbformat_minor": 5
}
